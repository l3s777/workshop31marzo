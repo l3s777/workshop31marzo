{
 "cells": [
  {
   "cell_type": "markdown",
   "metadata": {},
   "source": [
    "# Hand written Recognition MNIST dataset with Decision tree"
   ]
  },
  {
   "cell_type": "markdown",
   "metadata": {},
   "source": [
    "Para iniciar, se debe decargar los datasets de MNIST, en la misma raiz de este jupyter notebook, en una carpeta 'MNIST_data':\n",
    "    - t10k-images-idx3-ubyte.gz\n",
    "    - t10k-labels-idx1-ubyte.gz\n",
    "    - train-images-idx3-ubyte.gz\n",
    "    - train-labels-idx1-ubyte.gz\n",
    "\n",
    "Abrir una instancia de CMD, para descomprimir la data, ejecutar:\n",
    "\n",
    "    gzip *ubyte.gz -d\n",
    "\n",
    "Instalar MNIST (CMD):\n",
    "\n",
    "    pip install python-mnist"
   ]
  },
  {
   "cell_type": "code",
   "execution_count": 1,
   "metadata": {
    "collapsed": true
   },
   "outputs": [],
   "source": [
    "# importar las librerias\n",
    "\n",
    "%matplotlib inline\n",
    "from matplotlib import pyplot as plt\n",
    "import numpy as np\n",
    "from sklearn.model_selection import train_test_split\n",
    "from sklearn.metrics import confusion_matrix\n",
    "from mnist import MNIST"
   ]
  },
  {
   "cell_type": "code",
   "execution_count": 2,
   "metadata": {
    "collapsed": true
   },
   "outputs": [],
   "source": [
    "#importar el dataset\n",
    "\n",
    "mndata = MNIST('MNIST_data')\n",
    "\n",
    "# cargar la data de training (features -> images y labels -> labels)\n",
    "\n",
    "images, labels = mndata.load_training()"
   ]
  },
  {
   "cell_type": "code",
   "execution_count": 4,
   "metadata": {
    "collapsed": false
   },
   "outputs": [
    {
     "data": {
      "image/png": "[encoded data removed]",
      "text/plain": [
       "<matplotlib.figure.Figure at 0x27c91837be0>"
      ]
     },
     "metadata": {},
     "output_type": "display_data"
    }
   ],
   "source": [
    "# graficamos 16 imagenes del dataset de training\n",
    "\n",
    "plt.gray()\n",
    "for i in range(16):\n",
    "    plt.subplot(4,4,i+1)\n",
    "    \n",
    "    d_image = images[i]\n",
    "    d_image = np.array(d_image, dtype='float')\n",
    "    pixels = d_image.reshape((28, 28))\n",
    "    plt.imshow(pixels, cmap='gray')\n",
    "    plt.title(labels[i])\n",
    "    plt.axis('off')\n",
    "plt.show()"
   ]
  },
  {
   "cell_type": "code",
   "execution_count": 5,
   "metadata": {
    "collapsed": true
   },
   "outputs": [],
   "source": [
    "# definimos una funcion para evaluar el clasificador\n",
    "\n",
    "def evaluate_classifier(clf, test_data, test_labels):\n",
    "    pred = clf.predict(test_data)\n",
    "    C = confusion_matrix(test_labels, pred)\n",
    "    return C.diagonal().sum()*100./C.sum(),C"
   ]
  },
  {
   "cell_type": "code",
   "execution_count": 6,
   "metadata": {
    "collapsed": true
   },
   "outputs": [],
   "source": [
    "# Dividimos el dataset en:\n",
    "#  -Datos de Entremamiento 80%  (features, labels)\n",
    "#  -Datos de Testing  20%   (features y labels)\n",
    "\n",
    "train_data, test_data, train_labels, test_labels = train_test_split(images, labels, test_size=0.2, random_state=42)"
   ]
  },
  {
   "cell_type": "code",
   "execution_count": 8,
   "metadata": {
    "collapsed": false
   },
   "outputs": [
    {
     "data": {
      "text/plain": [
       "DecisionTreeClassifier(class_weight=None, criterion='gini', max_depth=None,\n",
       "            max_features=None, max_leaf_nodes=None,\n",
       "            min_impurity_decrease=0.0, min_impurity_split=None,\n",
       "            min_samples_leaf=1, min_samples_split=2,\n",
       "            min_weight_fraction_leaf=0.0, presort=False, random_state=None,\n",
       "            splitter='best')"
      ]
     },
     "execution_count": 8,
     "metadata": {},
     "output_type": "execute_result"
    }
   ],
   "source": [
    "# Entrenamiento del Arbol de decisiones\n",
    "\n",
    "from sklearn.tree import DecisionTreeClassifier\n",
    "clf = DecisionTreeClassifier()\n",
    "clf.fit(train_data, train_labels)"
   ]
  },
  {
   "cell_type": "code",
   "execution_count": 10,
   "metadata": {
    "collapsed": false
   },
   "outputs": [
    {
     "data": {
      "image/png": "[encoded data removed]",
      "text/plain": [
       "<matplotlib.figure.Figure at 0x27c96ff4ac8>"
      ]
     },
     "metadata": {},
     "output_type": "display_data"
    }
   ],
   "source": [
    "# Elegimos al azar una imagen del dataset de prueba. Index 8y lo graficamos para identificar q digito es\n",
    "\n",
    "d = test_data[8]\n",
    "d = np.array(d, dtype='float')\n",
    "pixels = d.reshape((28, 28))\n",
    "plt.imshow(pixels, cmap='gray')\n",
    "plt.show()"
   ]
  },
  {
   "cell_type": "code",
   "execution_count": 11,
   "metadata": {
    "collapsed": false
   },
   "outputs": [
    {
     "name": "stdout",
     "output_type": "stream",
     "text": [
      "[5]\n"
     ]
    }
   ],
   "source": [
    "# Aplicamos el clasificador a este index para ver el resultado\n",
    "print(clf.predict( [test_data[8]]))"
   ]
  },
  {
   "cell_type": "code",
   "execution_count": 12,
   "metadata": {
    "collapsed": false
   },
   "outputs": [
    {
     "data": {
      "image/png": "[encoded data removed]",
      "text/plain": [
       "<matplotlib.figure.Figure at 0x27c96fd8c88>"
      ]
     },
     "metadata": {},
     "output_type": "display_data"
    }
   ],
   "source": [
    "# Identificamos la imagen del index 100\n",
    "\n",
    "d = test_data[100]\n",
    "d = np.array(d, dtype='float')\n",
    "pixels = d.reshape((28, 28))\n",
    "plt.imshow(pixels, cmap='gray')\n",
    "plt.show()"
   ]
  },
  {
   "cell_type": "code",
   "execution_count": 13,
   "metadata": {
    "collapsed": false
   },
   "outputs": [
    {
     "name": "stdout",
     "output_type": "stream",
     "text": [
      "[2]\n"
     ]
    }
   ],
   "source": [
    "# Aplicamos para el index 100. Lo hace correctamente\n",
    "\n",
    "print(clf.predict( [test_data[100]]))"
   ]
  },
  {
   "cell_type": "code",
   "execution_count": 30,
   "metadata": {
    "collapsed": true
   },
   "outputs": [],
   "source": [
    "# vamos a evaluar nuestro clasificador con todo el \"training\" y \"testing\" set\n",
    "\n",
    "s,C = evaluate_classifier(clf, test_data, test_labels)"
   ]
  },
  {
   "cell_type": "code",
   "execution_count": 31,
   "metadata": {
    "collapsed": false
   },
   "outputs": [
    {
     "name": "stdout",
     "output_type": "stream",
     "text": [
      "86.975\n",
      "[[1069    2   20    6    8   24   16   11   12    7]\n",
      " [   1 1273    5   11    3    5    8    3   10    3]\n",
      " [  21   15 1002   21   20    9   13   23   34   16]\n",
      " [  18   12   32 1015   11   51    7   12   31   30]\n",
      " [   2    5    6    7 1028    8   15   12   21   72]\n",
      " [  10   11   12   54   15  905   27    9   35   26]\n",
      " [  24    8   14    2   31   21 1044    6   23    4]\n",
      " [   5   15   21   16   15    7    2 1184   13   21]\n",
      " [  11   16   34   49   29   27   23   18  924   29]\n",
      " [   7   11   10   16   61   19    6   34   37  993]]\n"
     ]
    }
   ],
   "source": [
    "print(s)\n",
    "print(C)"
   ]
  },
  {
   "cell_type": "code",
   "execution_count": 43,
   "metadata": {
    "collapsed": true
   },
   "outputs": [],
   "source": [
    "# Cargamos los datos de evaluacion\n",
    "\n",
    "eval_data, eval_labels = mndata.load_testing()"
   ]
  },
  {
   "cell_type": "code",
   "execution_count": 46,
   "metadata": {
    "collapsed": false
   },
   "outputs": [
    {
     "data": {
      "image/png": "[encoded data removed]",
      "text/plain": [
       "<matplotlib.figure.Figure at 0x27c98638c18>"
      ]
     },
     "metadata": {},
     "output_type": "display_data"
    }
   ],
   "source": [
    "# Identificamos y predecimos para el index 17 del dataset de evaluacion\n",
    "\n",
    "d = eval_data[17]\n",
    "d = np.array(d, dtype='float')\n",
    "pixels = d.reshape((28, 28))\n",
    "plt.imshow(pixels, cmap='gray')\n",
    "plt.show()"
   ]
  },
  {
   "cell_type": "code",
   "execution_count": 47,
   "metadata": {
    "collapsed": false
   },
   "outputs": [
    {
     "name": "stdout",
     "output_type": "stream",
     "text": [
      "[7]\n"
     ]
    }
   ],
   "source": [
    "print(clf.predict( [eval_data[17]]))"
   ]
  },
  {
   "cell_type": "code",
   "execution_count": 48,
   "metadata": {
    "collapsed": false
   },
   "outputs": [
    {
     "name": "stdout",
     "output_type": "stream",
     "text": [
      "Accuracy =  87.92999999999999\n"
     ]
    }
   ],
   "source": [
    "# Aplicamos el clasificador a todo el dataset de Evaluacion y obtenemos el Accuracy\n",
    "\n",
    "p = clf.predict(eval_data)\n",
    "\n",
    "count=0\n",
    "for i in range(0,len(eval_labels)):\n",
    "\tcount +=1 if p[i]==eval_labels[i] else 0\n",
    "print(\"Accuracy = \", (count/len(eval_labels))*100)"
   ]
  },
  {
   "cell_type": "code",
   "execution_count": 57,
   "metadata": {
    "collapsed": true
   },
   "outputs": [],
   "source": [
    "# Evaluamos los resultados con la matriz de confusion para el dataset de Evaluacion\n",
    "\n",
    "sEval,CEval = evaluate_classifier(clf, eval_data, np.array(eval_labels))"
   ]
  },
  {
   "cell_type": "code",
   "execution_count": 58,
   "metadata": {
    "collapsed": false
   },
   "outputs": [
    {
     "name": "stdout",
     "output_type": "stream",
     "text": [
      "87.93\n",
      "[[ 916    2   14    4    5   13    9    5    2   10]\n",
      " [   0 1101    6    5    2    2    7    1    9    2]\n",
      " [   8   11  892   24   11    7   12   13   44   10]\n",
      " [   7    1   32  852    3   50    8   14   23   20]\n",
      " [   3    5    7    7  860   10   12   10   23   45]\n",
      " [  12    9    8   40   13  735   24    2   30   19]\n",
      " [  17    4   11    5   18   14  865    5   13    6]\n",
      " [   7   10   30   10    7    7    2  921   18   16]\n",
      " [   6    7   32   27   27   31   22   13  781   28]\n",
      " [   5    4   11   19   43   16    3   21   17  870]]\n"
     ]
    }
   ],
   "source": [
    "print(sEval)\n",
    "print(CEval)"
   ]
  }
 ],
 "metadata": {
  "kernelspec": {
   "display_name": "Python 2",
   "language": "python",
   "name": "python2"
  },
  "language_info": {
   "codemirror_mode": {
    "name": "ipython",
    "version": 2
   },
   "file_extension": ".py",
   "mimetype": "text/x-python",
   "name": "python",
   "nbconvert_exporter": "python",
   "pygments_lexer": "ipython2",
   "version": "2.7.13"
  }
 },
 "nbformat": 4,
 "nbformat_minor": 2
}
