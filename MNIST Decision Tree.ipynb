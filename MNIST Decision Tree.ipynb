{
 "cells": [
  {
   "cell_type": "markdown",
   "metadata": {},
   "source": [
    "# Recognition hand-written MNIST dataset with Decision tree"
   ]
  },
  {
   "cell_type": "markdown",
   "metadata": {},
   "source": [
    "\n",
    "En este tutorial utilizaremos el algoritmo \"Decision tree\" para reconocer dígitos escritos a mano. El objetivo consiste en identificar un caracter a partir de una imagen digitalizada que se representa como un conjunto de pixeles.\n",
    "En este caso se usará python (https://www.python.org) como lenguaje de programación y la librería SciKit (http://scikit-learn.org/stable/. Para la data usaremos el dataset de MNIST que se puede obtener en http://yann.lecun.com/exdb/mnist/. \n",
    "\n",
    "Para iniciar, se debe decargar los datasets de MNIST, en la misma raiz de este jupyter notebook, en una carpeta 'MNIST_data':\n",
    "    - t10k-images-idx3-ubyte.gz\n",
    "    - t10k-labels-idx1-ubyte.gz\n",
    "    - train-images-idx3-ubyte.gz\n",
    "    - train-labels-idx1-ubyte.gz\n",
    "\n",
    "Abrir una instancia de CMD, para descomprimir la data, ejecutar:\n",
    "\n",
    "    gzip *ubyte.gz -d\n",
    "\n",
    "Paralelamente se usara el paquete MNIST que se puede instalar desde la consola usando el comando:\n",
    "\n",
    "    pip install python-mnist"
   ]
  },
  {
   "cell_type": "code",
   "execution_count": 1,
   "metadata": {},
   "outputs": [],
   "source": [
    "# importar las librerias\n",
    "\n",
    "%matplotlib inline\n",
    "from matplotlib import pyplot as plt\n",
    "import numpy as np\n",
    "from sklearn.model_selection import train_test_split\n",
    "from sklearn.metrics import confusion_matrix\n",
    "from sklearn.tree import DecisionTreeClassifier\n",
    "from mnist import MNIST"
   ]
  },
  {
   "cell_type": "code",
   "execution_count": 2,
   "metadata": {},
   "outputs": [],
   "source": [
    "#importar el dataset\n",
    "\n",
    "mndata = MNIST('MNIST_data')\n",
    "\n",
    "# cargar la data de training (features -> images y labels -> labels)\n",
    "\n",
    "images, labels = mndata.load_training()"
   ]
  },
  {
   "cell_type": "code",
   "execution_count": 3,
   "metadata": {},
   "outputs": [
    {
     "data": {
      "image/png": "[encoded data removed]",
      "text/plain": [
       "<matplotlib.figure.Figure at 0x22d3ad84f60>"
      ]
     },
     "metadata": {},
     "output_type": "display_data"
    }
   ],
   "source": [
    "# vemos el contenido del data set, graficamos 25 imagenes del dataset de training\n",
    "\n",
    "plt.gray()\n",
    "for i in range(25):\n",
    "    plt.subplot(5,5,i+1)\n",
    "    \n",
    "    d_image = images[i]\n",
    "    d_image = np.array(d_image, dtype='float')\n",
    "    pixels = d_image.reshape((28, 28))\n",
    "    plt.imshow(pixels, cmap='gray')\n",
    "    plt.title(labels[i])\n",
    "    plt.axis('off')\n",
    "plt.show()"
   ]
  },
  {
   "cell_type": "markdown",
   "metadata": {},
   "source": [
    "Es importante evaluar el rendimiento de un clasificador, en nuestro caso utilizando el algoritmo Decision tree. A continuación un método para evaluar nuestro clasificador.\n",
    "\n",
    "Introducimos los conceptos:\n",
    "\n",
    "    -  Confusion matrix / Matrix de confusión\n",
    "    -  Score / puntuación"
   ]
  },
  {
   "cell_type": "code",
   "execution_count": 4,
   "metadata": {},
   "outputs": [],
   "source": [
    "# definimos una funcion para evaluar el clasificador\n",
    "\n",
    "def evaluate_classifier(clf, test_data, test_labels):\n",
    "    pred = clf.predict(test_data)\n",
    "    C = confusion_matrix(test_labels, pred)\n",
    "    return C.diagonal().sum()*100./C.sum(),C"
   ]
  },
  {
   "cell_type": "code",
   "execution_count": 5,
   "metadata": {},
   "outputs": [],
   "source": [
    "# Dividimos el dataset en:\n",
    "#  -Datos de Entremamiento 70%  (features, labels)\n",
    "#  -Datos de Testing  30%   (features y labels)\n",
    "\n",
    "train_data, test_data, train_labels, test_labels = train_test_split(images, labels, test_size=0.3, random_state=42)"
   ]
  },
  {
   "cell_type": "markdown",
   "metadata": {},
   "source": [
    "Hora de entrenar nuestro __\"CLASIFICADOR\"__\n",
    "Usamos de la librería SciKit-learn, el algoritmo ya definido de __Decision Tree__, que nos permite definir los siguientes \"hiperparámetros\"\n",
    "\n",
    "\n",
    "criterion : The function to measure the quality of a split. Default \"gini\"\n",
    "\n",
    "max_depth : The maximum depth of the tree\n",
    "\n",
    "max_features : The number of features to consider when looking for the best split\n",
    "\n",
    "Más info: http://scikit-learn.org/stable/modules/generated/sklearn.tree.DecisionTreeClassifier.html"
   ]
  },
  {
   "cell_type": "code",
   "execution_count": 6,
   "metadata": {},
   "outputs": [
    {
     "data": {
      "text/plain": [
       "DecisionTreeClassifier(class_weight=None, criterion='gini', max_depth=None,\n",
       "            max_features=None, max_leaf_nodes=None,\n",
       "            min_impurity_decrease=0.0, min_impurity_split=None,\n",
       "            min_samples_leaf=1, min_samples_split=2,\n",
       "            min_weight_fraction_leaf=0.0, presort=False, random_state=None,\n",
       "            splitter='best')"
      ]
     },
     "execution_count": 6,
     "metadata": {},
     "output_type": "execute_result"
    }
   ],
   "source": [
    "# Entrenamiento del Arbol de decisiones\n",
    "# definimos el clasificador\n",
    "\n",
    "clf = DecisionTreeClassifier()\n",
    "\n",
    "# entrenamos el clasificador\n",
    "clf.fit(train_data, train_labels)"
   ]
  },
  {
   "cell_type": "code",
   "execution_count": 7,
   "metadata": {},
   "outputs": [
    {
     "name": "stdout",
     "output_type": "stream",
     "text": [
      "85.77777777777777\n",
      "[[1628    2   28   16   22   33   29    9   29    9]\n",
      " [   2 1903   22   17    4    5    8   12   13    8]\n",
      " [  17   28 1456   63   18   21   49   41   49   17]\n",
      " [  13   16   57 1501   12   82    9   43   74   39]\n",
      " [   7    7   22   14 1490   22   25   35   22   82]\n",
      " [  27   14   22   79   27 1326   44    9   62   43]\n",
      " [  23    5   27   14   26   41 1604    4   32   11]\n",
      " [   9   13   53   19   20   16    3 1755   16   33]\n",
      " [  20   27   64   50   48   54   39   22 1338   68]\n",
      " [  13   10   19   32   79   43   13   64   51 1439]]\n"
     ]
    }
   ],
   "source": [
    "# vamos a evaluar nuestro clasificador con todo el \"training\" y \"testing\" set\n",
    "\n",
    "s,C = evaluate_classifier(clf, test_data, test_labels)\n",
    "\n",
    "# veremos el \"score\" y \"confusion matrix\" de nuestro clasificador elegido\n",
    "print(s)\n",
    "print(C)"
   ]
  },
  {
   "cell_type": "markdown",
   "metadata": {},
   "source": [
    "Antes de avanzar, podemos hacer un par de pruebas"
   ]
  },
  {
   "cell_type": "code",
   "execution_count": 8,
   "metadata": {},
   "outputs": [
    {
     "data": {
      "image/png": "[encoded data removed]",
      "text/plain": [
       "<matplotlib.figure.Figure at 0x22d40943630>"
      ]
     },
     "metadata": {},
     "output_type": "display_data"
    }
   ],
   "source": [
    "# Elegimos al azar una imagen del dataset de prueba. Index 8y lo graficamos para identificar q digito es\n",
    "\n",
    "d = test_data[8]\n",
    "d = np.array(d, dtype='float')\n",
    "pixels = d.reshape((28, 28))\n",
    "plt.imshow(pixels, cmap='gray')\n",
    "plt.show()"
   ]
  },
  {
   "cell_type": "code",
   "execution_count": 9,
   "metadata": {},
   "outputs": [
    {
     "name": "stdout",
     "output_type": "stream",
     "text": [
      "[5]\n"
     ]
    }
   ],
   "source": [
    "# Aplicamos el clasificador a este index para ver el resultado\n",
    "\n",
    "print(clf.predict( [test_data[8]]))"
   ]
  },
  {
   "cell_type": "markdown",
   "metadata": {},
   "source": [
    "Una vez nuestro clasificador este listo, podemos usar nuestro testing data"
   ]
  },
  {
   "cell_type": "code",
   "execution_count": 10,
   "metadata": {},
   "outputs": [],
   "source": [
    "# Cargamos los datos de evaluacion\n",
    "\n",
    "eval_data, eval_labels = mndata.load_testing()"
   ]
  },
  {
   "cell_type": "code",
   "execution_count": 11,
   "metadata": {},
   "outputs": [],
   "source": [
    "# Aplicamos el clasificador a todo el dataset de Evaluacion y obtenemos el Accuracy\n",
    "\n",
    "p = clf.predict(eval_data)"
   ]
  },
  {
   "cell_type": "code",
   "execution_count": 12,
   "metadata": {},
   "outputs": [
    {
     "name": "stdout",
     "output_type": "stream",
     "text": [
      "86.32\n",
      "[[ 911    1    5    3   11   10   13    5   13    8]\n",
      " [   1 1083   13   11    1    3    1    3   18    1]\n",
      " [  12   13  861   31   14   12   25   27   28    9]\n",
      " [   8    8   23  840    3   58    8   13   28   21]\n",
      " [   8    4   23    9  838   11   10   13   22   44]\n",
      " [  15   13    6   46    7  726   15    9   30   25]\n",
      " [  20    0   15    6   16   22  850    1   23    5]\n",
      " [   2   15   22   11   10    3    2  934    6   23]\n",
      " [   8   10   28   40   28   32   29   12  764   23]\n",
      " [  12    4    5   19   55   23    5   24   37  825]]\n"
     ]
    }
   ],
   "source": [
    "# Evaluamos los resultados con la matriz de confusion para el dataset de Evaluacion\n",
    "\n",
    "sEval,CEval = evaluate_classifier(clf, eval_data, np.array(eval_labels))\n",
    "\n",
    "print(sEval)\n",
    "print(CEval)"
   ]
  },
  {
   "cell_type": "markdown",
   "metadata": {},
   "source": [
    "Conclusiones Clasificador Decision Tree funciona! al parecer podemos tener 86.32% de seguridad que nos dirá el digito correcto de la imagen."
   ]
  },
  {
   "cell_type": "code",
   "execution_count": 13,
   "metadata": {},
   "outputs": [
    {
     "data": {
      "image/png": "[encoded data removed]",
      "text/plain": [
       "<matplotlib.figure.Figure at 0x22d40a0b320>"
      ]
     },
     "metadata": {},
     "output_type": "display_data"
    }
   ],
   "source": [
    "# Identificamos y predecimos para el index 17 del dataset de evaluacion\n",
    "\n",
    "d = eval_data[17]\n",
    "d = np.array(d, dtype='float')\n",
    "pixels = d.reshape((28, 28))\n",
    "plt.imshow(pixels, cmap='gray')\n",
    "plt.show()"
   ]
  },
  {
   "cell_type": "code",
   "execution_count": 23,
   "metadata": {},
   "outputs": [
    {
     "name": "stdout",
     "output_type": "stream",
     "text": [
      "[7]\n"
     ]
    }
   ],
   "source": [
    "print(clf.predict( [eval_data[17]]))"
   ]
  }
 ],
 "metadata": {
  "kernelspec": {
   "display_name": "Python 3",
   "language": "python",
   "name": "python3"
  },
  "language_info": {
   "codemirror_mode": {
    "name": "ipython",
    "version": 3
   },
   "file_extension": ".py",
   "mimetype": "text/x-python",
   "name": "python",
   "nbconvert_exporter": "python",
   "pygments_lexer": "ipython3",
   "version": "3.6.4"
  }
 },
 "nbformat": 4,
 "nbformat_minor": 2
}
