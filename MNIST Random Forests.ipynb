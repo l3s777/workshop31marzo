{
 "cells": [
  {
   "cell_type": "markdown",
   "metadata": {},
   "source": [
    "# Recognizing hand-written digits with Random Forests"
   ]
  },
  {
   "cell_type": "markdown",
   "metadata": {},
   "source": [
    "En este tutorial se utilizará el algoritmo \"Random Forests\" para reconocer dígitos escritos a mano. El objetivo consiste en identificar un caracter a partir de una imagen digitalizada que se representa como un conjunto de pixeles.\n",
    "\n",
    "En este caso se usará el dataset de MNIST que se puede obtener en http://yann.lecun.com/exdb/mnist/. Paralelamente se usara el paquete MNIST que se puede instalar desde la consola usando el comando:\n",
    "\n",
    "_pip install python-mnist_"
   ]
  },
  {
   "cell_type": "code",
   "execution_count": 1,
   "metadata": {
    "collapsed": true
   },
   "outputs": [],
   "source": [
    "# Inicialmente importamos las librerias que se utilizaran\n",
    "\n",
    "import numpy as np\n",
    "from random import *\n",
    "from matplotlib import pyplot as plt\n",
    "from sklearn.ensemble import RandomForestClassifier\n",
    "from sklearn.metrics import confusion_matrix\n",
    "from sklearn.metrics import accuracy_score\n",
    "from sklearn import metrics\n",
    "from sklearn.model_selection import train_test_split\n",
    "from mnist import MNIST"
   ]
  },
  {
   "cell_type": "code",
   "execution_count": 2,
   "metadata": {
    "collapsed": true
   },
   "outputs": [],
   "source": [
    "# Cargamos la data en el objeto mndata:\n",
    "mndata = MNIST('./MNIST_data')\n",
    "\n",
    "trainingImages, trainingLabels = mndata.load_training()\n",
    "testImages, testLabels = mndata.load_testing()\n",
    "\n",
    "# Each image of the images list is an Python list of unsigned bytes.\n",
    "# The labels is an Python array of unsigned bytes."
   ]
  },
  {
   "cell_type": "code",
   "execution_count": 3,
   "metadata": {
    "collapsed": false
   },
   "outputs": [
    {
     "name": "stdout",
     "output_type": "stream",
     "text": [
      "('Total Training count:', 60000)\n",
      "('Final Testing count:', 10000)\n",
      "('Training count 70%:', 42000)\n",
      "('Testing count 30%:', 18000)\n"
     ]
    }
   ],
   "source": [
    "# Dividimos la data en training y testing data\n",
    "\n",
    "trainingImagesCount = len(trainingImages)\n",
    "testingImagesCount = len(testImages)\n",
    "\n",
    "print (\"Total Training count:\",(trainingImagesCount))\n",
    "print (\"Final Testing count:\",(testingImagesCount))\n",
    "\n",
    "# Dividimos el dataset en:\n",
    "#  -Datos de Entremamiento 70%  (features, labels)\n",
    "#  -Datos de Testing  30%   (features y labels)\n",
    "\n",
    "train_data, test_data, train_labels, test_labels = train_test_split(trainingImages, trainingLabels, test_size=0.3, random_state=42)\n",
    "\n",
    "trainDataCount = len(train_data)\n",
    "testDataCount = len(test_data)\n",
    "print (\"Training count 70%:\",(trainDataCount))\n",
    "print (\"Testing count 30%:\",(testDataCount))"
   ]
  },
  {
   "cell_type": "code",
   "execution_count": 4,
   "metadata": {
    "collapsed": false
   },
   "outputs": [
    {
     "name": "stdout",
     "output_type": "stream",
     "text": [
      "Parametros usados:\n",
      "\n",
      "{'warm_start': False, 'oob_score': False, 'n_jobs': 1, 'verbose': 0, 'max_leaf_nodes': None, 'bootstrap': True, 'min_samples_leaf': 1, 'n_estimators': 15, 'min_samples_split': 2, 'min_weight_fraction_leaf': 0.0, 'criterion': 'gini', 'random_state': None, 'min_impurity_split': 1e-07, 'max_features': 'auto', 'max_depth': 32, 'class_weight': None}\n"
     ]
    }
   ],
   "source": [
    "# Entrenamos el clasificador\n",
    "\n",
    "\n",
    "clf = RandomForestClassifier(n_estimators=15, criterion=\"gini\", max_depth=32, max_features=\"auto\")\n",
    "clf = clf.fit(train_data, train_labels)\n",
    "\n",
    "# Look at parameters used by our current forest\n",
    "print('Parametros usados:\\n')\n",
    "print(clf.get_params())"
   ]
  },
  {
   "cell_type": "markdown",
   "metadata": {},
   "source": [
    "Hiperparametros\n",
    "- n_estimators : number of trees in the foreset\n",
    "- criterion : The function to measure the quality of a split. Default \"gini\"\n",
    "- max_depth : max number of levels in each decision tree\n",
    "- max_features : max number of features considered for splitting a node\n",
    "\n",
    "Más info: http://scikit-learn.org/stable/modules/generated/sklearn.ensemble.RandomForestClassifier.html"
   ]
  },
  {
   "cell_type": "code",
   "execution_count": 5,
   "metadata": {
    "collapsed": true
   },
   "outputs": [],
   "source": [
    "# Aplicamos el clasificador en el testing data\n",
    "predictionRes = clf.predict(test_data)"
   ]
  },
  {
   "cell_type": "code",
   "execution_count": 21,
   "metadata": {
    "collapsed": false
   },
   "outputs": [
    {
     "name": "stdout",
     "output_type": "stream",
     "text": [
      "Train Accuracy :  0.99980952381\n",
      "Test Accuracy  :  0.9515\n",
      "Confusion matrix \n",
      " [[1770    2    2    3    4    8    8    1    5    2]\n",
      " [   0 1967   12    5    4    0    0    2    1    3]\n",
      " [   6    8 1686    8    9    2    7   20    8    5]\n",
      " [   5    2   37 1705    3   34    3   23   23   11]\n",
      " [   4    2    3    2 1668    2    7    8    3   27]\n",
      " [  14    5    7   51    5 1531   14    3   17    6]\n",
      " [   8    1    5    1    9   14 1745    0    4    0]\n",
      " [   2   11   32    6    7    1    0 1849   10   19]\n",
      " [   5   17   26   33   16   28   11    4 1577   13]\n",
      " [  10    4    9   20   32   16    2   25   16 1629]]\n"
     ]
    }
   ],
   "source": [
    "# Accuracy andConfusion matrix \n",
    "\n",
    "print (\"Train Accuracy : \", accuracy_score(train_labels, clf.predict(train_data)))\n",
    "print (\"Test Accuracy  : \", accuracy_score(test_labels, predictionRes))\n",
    "print (\"Confusion matrix \\n\", confusion_matrix(test_labels, predictionRes))"
   ]
  },
  {
   "cell_type": "code",
   "execution_count": 6,
   "metadata": {
    "collapsed": false
   },
   "outputs": [
    {
     "name": "stdout",
     "output_type": "stream",
     "text": [
      "             precision    recall  f1-score   support\n",
      "\n",
      "          0     0.9752    0.9812    0.9782      1805\n",
      "          1     0.9746    0.9829    0.9788      1994\n",
      "          2     0.9250    0.9602    0.9423      1759\n",
      "          3     0.9452    0.9242    0.9345      1846\n",
      "          4     0.9437    0.9623    0.9530      1726\n",
      "          5     0.9375    0.9341    0.9358      1653\n",
      "          6     0.9700    0.9759    0.9729      1787\n",
      "          7     0.9577    0.9463    0.9520      1937\n",
      "          8     0.9449    0.9214    0.9330      1730\n",
      "          9     0.9389    0.9246    0.9317      1763\n",
      "\n",
      "avg / total     0.9518    0.9518    0.9517     18000\n",
      "\n"
     ]
    }
   ],
   "source": [
    "# Se puede obtener un reporte de la precision, recall y f1 score para cada clase\n",
    "\n",
    "print (metrics.classification_report(test_labels, predictionRes, digits=4))"
   ]
  },
  {
   "cell_type": "code",
   "execution_count": 7,
   "metadata": {
    "collapsed": false
   },
   "outputs": [
    {
     "data": {
      "image/png": "[encoded data removed]",
      "text/plain": [
       "<matplotlib.figure.Figure at 0x109f32d10>"
      ]
     },
     "metadata": {},
     "output_type": "display_data"
    }
   ],
   "source": [
    "rt = testImages[randint(1, testingImagesCount-1)]\n",
    "rt = np.array(rt, dtype='float')\n",
    "pixels = rt.reshape((28, 28))\n",
    "plt.imshow(pixels, cmap='gray')\n",
    "plt.show()"
   ]
  },
  {
   "cell_type": "code",
   "execution_count": 8,
   "metadata": {
    "collapsed": false
   },
   "outputs": [
    {
     "name": "stdout",
     "output_type": "stream",
     "text": [
      "[2]\n"
     ]
    }
   ],
   "source": [
    "print(clf.predict( [rt]))"
   ]
  },
  {
   "cell_type": "code",
   "execution_count": null,
   "metadata": {
    "collapsed": true
   },
   "outputs": [],
   "source": []
  }
 ],
 "metadata": {
  "kernelspec": {
   "display_name": "Python 2",
   "language": "python",
   "name": "python2"
  },
  "language_info": {
   "codemirror_mode": {
    "name": "ipython",
    "version": 2
   },
   "file_extension": ".py",
   "mimetype": "text/x-python",
   "name": "python",
   "nbconvert_exporter": "python",
   "pygments_lexer": "ipython2",
   "version": "2.7.13"
  }
 },
 "nbformat": 4,
 "nbformat_minor": 2
}
