{
 "cells": [
  {
   "cell_type": "markdown",
   "metadata": {},
   "source": [
    "## Clasificador que reconoce dígitos escritos a mano en SVM"
   ]
  },
  {
   "cell_type": "markdown",
   "metadata": {},
   "source": [
    "En este tutorial, utilizaremos SVM(Support Vector Machine) para construir un clasificador \"classifier\" para resolver el problema de reconocimiento de dígitos (escritos a mano) utilizando python (https://www.python.org) como lenguaje de programación y la librería SciKit (http://scikit-learn.org/stable/)\n",
    "Utilizamos una base de datos, llamada MNIST, que contiene las imágenes de los dígitos escritos a manos. Este set de entrenamiento (training set) tiene 60000 ejemplos y el set de pruebas (test set) contiene 10000 ejemplos."
   ]
  },
  {
   "cell_type": "markdown",
   "metadata": {},
   "source": [
    "Contamos con la carpeta 'MNIST_data', que contiene el **\"data set\"** para el *training* y el *testing*.\n",
    "\n",
    "Para descomprimir todos los datos en ese folder:\n",
    "\n",
    "    $ gzip MNIST_data/*.gz -d\n",
    "\n",
    "\n",
    "y no olvides instalar python-mnist, así:\n",
    "\n",
    "    $ pip install python-mnist"
   ]
  },
  {
   "cell_type": "code",
   "execution_count": 1,
   "metadata": {
    "collapsed": true
   },
   "outputs": [],
   "source": [
    "# importar las librerias\n",
    "\n",
    "%matplotlib inline\n",
    "from matplotlib import pyplot as plt\n",
    "import numpy as np\n",
    "from sklearn.model_selection import train_test_split\n",
    "from sklearn.metrics import confusion_matrix\n",
    "from mnist import MNIST"
   ]
  },
  {
   "cell_type": "code",
   "execution_count": 2,
   "metadata": {
    "collapsed": true
   },
   "outputs": [],
   "source": [
    "#importar el dataset\n",
    "mnist = MNIST('MNIST_data')\n",
    "\n",
    "# cargar la data de training (features -> images y labels -> labels)\n",
    "images, labels = mnist.load_training()"
   ]
  },
  {
   "cell_type": "code",
   "execution_count": 3,
   "metadata": {
    "collapsed": false
   },
   "outputs": [
    {
     "data": {
      "image/png": "[encoded data removed]",
      "text/plain": [
       "<matplotlib.figure.Figure at 0x10abfdf50>"
      ]
     },
     "metadata": {},
     "output_type": "display_data"
    }
   ],
   "source": [
    "# vemos el contenido del data set, graficamos 25 imagenes del dataset de training\n",
    "plt.gray()\n",
    "for i in range(25):\n",
    "    plt.subplot(5,5,i+1)\n",
    "    aux_image = np.array(images[i], dtype='float')\n",
    "    pixels = aux_image.reshape((28, 28))\n",
    "    plt.imshow(pixels, cmap='gray')\n",
    "    plt.title(labels[i])\n",
    "    plt.axis('off')\n",
    "plt.show()"
   ]
  },
  {
   "cell_type": "markdown",
   "metadata": {},
   "source": [
    "Es importante evaluar el rendimiento de un clasificador, en nuestro caso utilizando el algoritmo SVM.\n",
    "A continuación un método para evaluar nuestros clasificador SVM.\n",
    "\n",
    "Introducimos los conceptos:\n",
    "* Confusion matrix / Matrix de confusión\n",
    "* Score / puntuación"
   ]
  },
  {
   "cell_type": "code",
   "execution_count": 4,
   "metadata": {
    "collapsed": true
   },
   "outputs": [],
   "source": [
    "# definimos una funcion para evaluar el clasificador\n",
    "\n",
    "def evaluate_classifier(clf, test_data, test_labels):\n",
    "    pred = clf.predict(test_data)\n",
    "    C = confusion_matrix(test_labels, pred)\n",
    "    return C.diagonal().sum()*100./C.sum(),C"
   ]
  },
  {
   "cell_type": "code",
   "execution_count": 5,
   "metadata": {
    "collapsed": true
   },
   "outputs": [],
   "source": [
    "# opcion 1 - division manual data: training-testing\n",
    "# training 70% y testing 30%\n",
    "train_data, test_data, train_labels, test_labels = train_test_split(images, labels, test_size=0.3, random_state=42)"
   ]
  },
  {
   "cell_type": "code",
   "execution_count": 6,
   "metadata": {
    "collapsed": false
   },
   "outputs": [
    {
     "data": {
      "text/plain": [
       "42000"
      ]
     },
     "execution_count": 6,
     "metadata": {},
     "output_type": "execute_result"
    }
   ],
   "source": [
    "len(train_data)"
   ]
  },
  {
   "cell_type": "code",
   "execution_count": 7,
   "metadata": {
    "collapsed": true
   },
   "outputs": [],
   "source": [
    "# importamos librerías para construir nuestro clasificador\n",
    "\n",
    "# NumPy es una extensión de Python, que le agrega mayor soporte para vectores y matrices\n",
    "import numpy as np\n",
    "\n",
    "# de la librería SVM importamos SVC: C-Support Vector Classification\n",
    "from sklearn.svm import SVC"
   ]
  },
  {
   "cell_type": "markdown",
   "metadata": {
    "collapsed": true
   },
   "source": [
    "Hora de entrenar nuestro **\"CLASIFICADOR\"**\n",
    "\n",
    "Usamos de la librería **SciKit-learn**, el algoritmo ya definido de **SVM**, que nos permite definir los siguientes \"hiperparámetros\"\n",
    "\n",
    "\n",
    "class sklearn.svm.SVC (C=1.0, kernel=’rbf’, degree=3, gamma=’auto’, coef0=0.0, shrinking=True, probability=False, tol=0.001, cache_size=200, class_weight=None, verbose=False, max_iter=-1, decision_function_shape=’ovr’, random_state=None)\n",
    "\n",
    "\n",
    "C = penalidad kernel = tipo de kernel a utilizar en el algoritmo: ‘linear’, ‘poly’, ‘rbf’, ‘sigmoid’, ‘precomputed’\n",
    "En nuestro caso, probamos con rbf, que es popular en Machine Learning para un clasificador SVM. RBF Radial Basis Function"
   ]
  },
  {
   "cell_type": "code",
   "execution_count": null,
   "metadata": {
    "collapsed": false
   },
   "outputs": [],
   "source": [
    "# testing/probando... \n",
    "# definimos el clasificador\n",
    "clf = SVC(C=1.0, kernel='rbf')\n",
    "\n",
    "# entrenamos el clasificador\n",
    "clf.fit(train_data, train_labels)"
   ]
  },
  {
   "cell_type": "code",
   "execution_count": null,
   "metadata": {
    "collapsed": true
   },
   "outputs": [],
   "source": [
    "# vamos a evaluar nuestro clasificador con todo el \"training\" y \"testing\" set\n",
    "s,C = evaluate_classifier(clf, test_data, test_labels)\n",
    "\n",
    "# veremos el \"score\" y \"confusion matrix\" de nuestro clasificador elegido\n",
    "print s\n",
    "print C"
   ]
  },
  {
   "cell_type": "markdown",
   "metadata": {},
   "source": [
    "Entrenando el clasificador con SVM puede tomar algunos minutos...  \"paciencia\"\n",
    "\n",
    "Después de varias pruebas encontramos:\n",
    "que 13<=C>=15 nos da un valor decente."
   ]
  },
  {
   "cell_type": "code",
   "execution_count": null,
   "metadata": {
    "collapsed": true
   },
   "outputs": [],
   "source": [
    "# finalmente definimos nuestro \"mejor clasificador\"\n",
    "clf = SVC(C=14, kernel='rbf')\n",
    "\n",
    "# entrenamos el clasificador toda nuestra data definida en un principio (no más StratifiedKFold)\n",
    "clf.fit(train_data, train_labels)"
   ]
  },
  {
   "cell_type": "code",
   "execution_count": null,
   "metadata": {
    "collapsed": true
   },
   "outputs": [],
   "source": [
    "# vamos a evaluar nuestro clasificador con todo el \"training\" y \"testing\" set\n",
    "s,C = evaluate_classifier(clf, test_data, test_labels)"
   ]
  },
  {
   "cell_type": "code",
   "execution_count": null,
   "metadata": {
    "collapsed": true
   },
   "outputs": [],
   "source": [
    "# veremos el \"score\" y \"confusion matrix\" de nuestro clasificador elegido\n",
    "print s\n",
    "print C"
   ]
  },
  {
   "cell_type": "markdown",
   "metadata": {},
   "source": [
    "Antes de avanzar, podemos hacer un par de pruebas"
   ]
  },
  {
   "cell_type": "code",
   "execution_count": null,
   "metadata": {
    "collapsed": true
   },
   "outputs": [],
   "source": [
    "# Elegimos al azar una imagen del dataset de prueba. Index 8y lo graficamos para identificar q digito es\n",
    "\n",
    "d = test_data[10]\n",
    "d = np.array(d, dtype='float')\n",
    "pixels = d.reshape((28, 28))\n",
    "plt.imshow(pixels, cmap='gray')\n",
    "plt.show()"
   ]
  },
  {
   "cell_type": "code",
   "execution_count": null,
   "metadata": {
    "collapsed": true
   },
   "outputs": [],
   "source": [
    "# Aplicamos el clasificador a este index para ver el resultado\n",
    "print(clf.predict( [test_data[10]]))"
   ]
  },
  {
   "cell_type": "markdown",
   "metadata": {},
   "source": [
    "Una vez nuestro **clasificador** este listo, podemos usar nuestro testing data"
   ]
  },
  {
   "cell_type": "code",
   "execution_count": null,
   "metadata": {
    "collapsed": true
   },
   "outputs": [],
   "source": [
    "# testing data\n",
    "\n",
    "final_test_data, final_test_labels = mndata.load_testing()"
   ]
  },
  {
   "cell_type": "code",
   "execution_count": null,
   "metadata": {
    "collapsed": true
   },
   "outputs": [],
   "source": [
    "# evaluamos con todo el MNIST\n",
    "sFinal,CFinal = evaluate_classifier(clf, final_test_data, final_test_labels)\n",
    "\n",
    "# veamos que tan bueno eso\n",
    "print sFinal\n",
    "print CFinal"
   ]
  },
  {
   "cell_type": "markdown",
   "metadata": {},
   "source": [
    "**Conclusiones**\n",
    "Clasificador SVM funciona! al parecer podemos tener 90% de seguridad que nos dirá el digito correcto de la imagen."
   ]
  },
  {
   "cell_type": "markdown",
   "metadata": {},
   "source": [
    "----------------------\n",
    "Extra.\n"
   ]
  },
  {
   "cell_type": "code",
   "execution_count": null,
   "metadata": {
    "collapsed": true
   },
   "outputs": [],
   "source": [
    "# de la librería SVM: StratifiedKFold para dividir nuestro data set en \"train/test sets\"\n",
    "from sklearn.cross_validation import StratifiedKFold"
   ]
  },
  {
   "cell_type": "code",
   "execution_count": null,
   "metadata": {
    "collapsed": true
   },
   "outputs": [],
   "source": [
    "# SVM toma mucho tiempo en entrenarse, usaremos solo 1/10 de toda la data\n",
    "kf = StratifiedKFold(train_labels, 10 )\n",
    "\n",
    "# iteramos y definimos, data_x como la info de los imagenes de los dígitos y data_y como el \"label\" (usamos SUPERVISE LEARNING)\n",
    "for big,small in kf:\n",
    "    data_x = train_data[small]\n",
    "    data_y = train_labels[small]\n",
    "    break"
   ]
  },
  {
   "cell_type": "code",
   "execution_count": null,
   "metadata": {
    "collapsed": true
   },
   "outputs": [],
   "source": [
    "# nuestro data set esta listo!\n",
    "print(data_x.shape)\n",
    "print(data_y.shape)"
   ]
  },
  {
   "cell_type": "code",
   "execution_count": null,
   "metadata": {
    "collapsed": true
   },
   "outputs": [],
   "source": [
    "# para entrenar dividimos todo el \"training set\" en 4 grupos, cada grupo tiene su parte de \"training\" y \"testing\"\n",
    "kf_test = StratifiedKFold(data_y.argmax(axis=1), 4)"
   ]
  },
  {
   "cell_type": "code",
   "execution_count": null,
   "metadata": {
    "collapsed": true
   },
   "outputs": [],
   "source": [
    "# finalmente definimos nuestro \"mejor clasificador\"\n",
    "clf = SVC(C=14, kernel='rbf')\n",
    "\n",
    "# entrenamos el clasificador toda nuestra data definida en un principio (no más StratifiedKFold)\n",
    "clf.fit(data_x, data_y.argmax(axis=1))"
   ]
  },
  {
   "cell_type": "code",
   "execution_count": null,
   "metadata": {
    "collapsed": true
   },
   "outputs": [],
   "source": [
    "# vamos a evaluar nuestro clasificador con todo el \"training\" y \"testing\" set\n",
    "s,C = evaluate_classifier(clf, data_x, data_y)"
   ]
  },
  {
   "cell_type": "code",
   "execution_count": null,
   "metadata": {
    "collapsed": true
   },
   "outputs": [],
   "source": [
    "# veremos el \"score\" y \"confusion matrix\" de nuestro clasificador elegido\n",
    "print s\n",
    "print C"
   ]
  },
  {
   "cell_type": "code",
   "execution_count": null,
   "metadata": {
    "collapsed": true
   },
   "outputs": [],
   "source": [
    "# evaluamos con todo el MNIST\n",
    "sFinal,CFinal = evaluate_classifier(clf, final_test_data, final_test_labels)\n",
    "\n",
    "# veamos que tan bueno eso\n",
    "print sFinal\n",
    "print CFinal"
   ]
  }
 ],
 "metadata": {
  "kernelspec": {
   "display_name": "Python 2",
   "language": "python",
   "name": "python2"
  },
  "language_info": {
   "codemirror_mode": {
    "name": "ipython",
    "version": 2
   },
   "file_extension": ".py",
   "mimetype": "text/x-python",
   "name": "python",
   "nbconvert_exporter": "python",
   "pygments_lexer": "ipython2",
   "version": "2.7.13"
  }
 },
 "nbformat": 4,
 "nbformat_minor": 2
}
