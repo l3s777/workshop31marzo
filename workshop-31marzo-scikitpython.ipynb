{
 "cells": [
  {
   "cell_type": "markdown",
   "metadata": {
    "collapsed": true
   },
   "source": [
    "# Clasificador que reconoce dígitos escritos a mano - IWD 2018"
   ]
  },
  {
   "cell_type": "markdown",
   "metadata": {},
   "source": [
    "En este tutorial, utilizaremos SVM(Support Vector Machine) para construir un **clasificador** *\"classifier\"* para resolver el problema de reconocimiento de dígitos (escritos a mano) utilizando python (https://www.python.org) como lenguaje de programación y la librería SciKit (http://scikit-learn.org/stable/) Utilizamos una base de datos, llamada MNIST, que contiene las imágenes de los dígitos escritos a manos. Este set de entrenamiento (training set) tiene 60000 ejemplos y el set de pruebas (test set) contiene 10000 ejemplos.\n",
    "Contamos con la carpeta 'MNIST_data', que contiene el \"data set\" para el training y el testing.\n",
    "\n",
    "\n",
    "\n",
    "Para descomprimir todos los datos en ese folder:\n",
    "$ gzip MNIST_data/*.gz -d\n",
    "y no olvides instalar python-mnist, así:\n",
    "$ pip install python-mnist"
   ]
  },
  {
   "cell_type": "code",
   "execution_count": null,
   "metadata": {
    "collapsed": true
   },
   "outputs": [],
   "source": [
    "# importar las librerias\n",
    "\n",
    "# matplotlib\n",
    "# numpy\n",
    "# sklearn\n",
    "# mnist"
   ]
  },
  {
   "cell_type": "code",
   "execution_count": null,
   "metadata": {
    "collapsed": true
   },
   "outputs": [],
   "source": [
    "#importar el dataset\n",
    "mnist = MNIST('MNIST_data')\n",
    "\n",
    "# cargar la data de training (features -> images y labels -> labels)\n",
    "images, labels = mnist.load_training()"
   ]
  },
  {
   "cell_type": "code",
   "execution_count": null,
   "metadata": {
    "collapsed": true
   },
   "outputs": [],
   "source": [
    "# vemos el contenido del data set, graficamos 25 imagenes del dataset de training\n",
    "plt.gray()\n",
    "for i in range(25):\n",
    "    plt.subplot(5,5,i+1)\n",
    "    aux_image = np.array(images[i], dtype='float')\n",
    "    pixels = aux_image.reshape((28, 28))\n",
    "    plt.imshow(pixels, cmap='gray')\n",
    "    plt.title(labels[i])\n",
    "    plt.axis('off')\n",
    "plt.show()"
   ]
  },
  {
   "cell_type": "markdown",
   "metadata": {},
   "source": [
    "Es importante evaluar el rendimiento de un clasificador, en nuestro caso utilizando el algoritmo SVM. A continuación un método para evaluar nuestros clasificador SVM.\n",
    "\n",
    "Introducimos los conceptos:\n",
    "* Confusion matrix / Matrix de confusión\n",
    "* Score / puntuación"
   ]
  },
  {
   "cell_type": "code",
   "execution_count": null,
   "metadata": {
    "collapsed": true
   },
   "outputs": [],
   "source": [
    "# definimos una funcion para evaluar el clasificador\n",
    "\n",
    "# def evaluate_classifier(clf, test_data, test_labels)"
   ]
  },
  {
   "cell_type": "code",
   "execution_count": null,
   "metadata": {
    "collapsed": true
   },
   "outputs": [],
   "source": [
    "# importar librería DecisionTreeClassifier\n",
    "\n",
    "# de la librería Random Forest\n",
    "\n",
    "# importar la librería SVM"
   ]
  },
  {
   "cell_type": "code",
   "execution_count": null,
   "metadata": {
    "collapsed": true
   },
   "outputs": [],
   "source": [
    "# Elegimos al azar una imagen del dataset de prueba. Index 8y lo graficamos para identificar q digito es\n",
    "\n",
    "# d = test_data[8]\n",
    "# d = np.array(d, dtype='float')\n",
    "# pixels = d.reshape((28, 28))\n",
    "# plt.imshow(pixels, cmap='gray')\n",
    "# plt.show()"
   ]
  },
  {
   "cell_type": "code",
   "execution_count": null,
   "metadata": {
    "collapsed": true
   },
   "outputs": [],
   "source": [
    "# from sklearn.tree import DecisionTreeClassifier\n",
    "# clf = DecisionTreeClassifier()\n",
    "# clf.fit(train_data, train_labels)\n",
    "\n",
    "\n",
    "# de la librería SVM importamos SVC: C-Support Vector Classification\n",
    "# from sklearn.svm import SVC\n",
    "# definimos el clasificador\n",
    "# clf = SVC(C=1.0, kernel='rbf')\n",
    "\n",
    "# entrenamos el clasificador\n",
    "# clf.fit(train_data, train_labels)"
   ]
  },
  {
   "cell_type": "code",
   "execution_count": null,
   "metadata": {
    "collapsed": true
   },
   "outputs": [],
   "source": [
    "# vamos a evaluar nuestro clasificador con todo el \"training\" y \"testing\" set\n",
    "# s,C = evaluate_classifier(clf, test_data, test_labels)\n",
    "\n",
    "# veremos el \"score\" y \"confusion matrix\" de nuestro clasificador elegido\n",
    "# print score\n",
    "# print C_matrixconfusion"
   ]
  },
  {
   "cell_type": "code",
   "execution_count": null,
   "metadata": {
    "collapsed": true
   },
   "outputs": [],
   "source": [
    "# evaluamos con todo el MNIST\n",
    "# sFinal,CFinal = evaluate_classifier(clf, final_test_data, final_test_labels)\n",
    "\n",
    "# veamos que tan bueno eso\n",
    "# print sFinal\n",
    "# print CFinal"
   ]
  }
 ],
 "metadata": {
  "kernelspec": {
   "display_name": "Python 2",
   "language": "python",
   "name": "python2"
  },
  "language_info": {
   "codemirror_mode": {
    "name": "ipython",
    "version": 2
   },
   "file_extension": ".py",
   "mimetype": "text/x-python",
   "name": "python",
   "nbconvert_exporter": "python",
   "pygments_lexer": "ipython2",
   "version": "2.7.13"
  }
 },
 "nbformat": 4,
 "nbformat_minor": 2
}
