{
 "cells": [
  {
   "cell_type": "markdown",
   "metadata": {},
   "source": [
    "# Recognition hand-written MNIST dataset with Decision tree"
   ]
  },
  {
   "cell_type": "markdown",
   "metadata": {},
   "source": [
    "\n",
    "En este tutorial utilizaremos el algoritmo \"Decision tree\" para reconocer dígitos escritos a mano. El objetivo consiste en identificar un caracter a partir de una imagen digitalizada que se representa como un conjunto de pixeles.\n",
    "En este caso se usará python (https://www.python.org) como lenguaje de programación y la librería SciKit (http://scikit-learn.org/stable/. Para la data usaremos el dataset de MNIST que se puede obtener en http://yann.lecun.com/exdb/mnist/. \n",
    "\n",
    "Para iniciar, se debe decargar los datasets de MNIST, en la misma raiz de este jupyter notebook, en una carpeta 'MNIST_data':\n",
    "    - t10k-images-idx3-ubyte.gz\n",
    "    - t10k-labels-idx1-ubyte.gz\n",
    "    - train-images-idx3-ubyte.gz\n",
    "    - train-labels-idx1-ubyte.gz\n",
    "\n",
    "Abrir una instancia de CMD, para descomprimir la data, ejecutar:\n",
    "\n",
    "    gzip *ubyte.gz -d\n",
    "\n",
    "Paralelamente se usara el paquete MNIST que se puede instalar desde la consola usando el comando:\n",
    "\n",
    "    pip install python-mnist"
   ]
  },
  {
   "cell_type": "code",
   "execution_count": 1,
   "metadata": {},
   "outputs": [],
   "source": [
    "# importar las librerias\n",
    "\n",
    "%matplotlib inline\n",
    "from matplotlib import pyplot as plt\n",
    "import numpy as np\n",
    "from sklearn.model_selection import train_test_split\n",
    "from sklearn.metrics import confusion_matrix\n",
    "from sklearn.tree import DecisionTreeClassifier\n",
    "from sklearn import datasets"
   ]
  },
  {
   "cell_type": "code",
   "execution_count": 4,
   "metadata": {},
   "outputs": [],
   "source": [
    "#importar el dataset\n",
    "\n",
    "digits = datasets.load_digits()\n",
    "\n",
    "# cargar la data de training (features -> images y labels -> labels)\n",
    "\n",
    "images = digits.data\n",
    "labels = digits.target"
   ]
  },
  {
   "cell_type": "code",
   "execution_count": 17,
   "metadata": {},
   "outputs": [
    {
     "data": {
      "image/png": "[encoded data removed]",
      "text/plain": [
       "<matplotlib.figure.Figure at 0x1dd9968b4e0>"
      ]
     },
     "metadata": {},
     "output_type": "display_data"
    }
   ],
   "source": [
    "# vemos el contenido del data set, graficamos 25 imagenes del dataset de training\n",
    "\n",
    "plt.gray()\n",
    "for i in range(9):\n",
    "    plt.subplot(3,3,i+1)\n",
    "    \n",
    "    d_image = images[i]\n",
    "    d_image = np.array(d_image, dtype='float')\n",
    "    pixels = d_image.reshape((8, 8))\n",
    "    plt.imshow(pixels, cmap='gray')\n",
    "    plt.title(labels[i])\n",
    "    plt.axis('off')\n",
    "plt.show()"
   ]
  },
  {
   "cell_type": "markdown",
   "metadata": {},
   "source": [
    "Es importante evaluar el rendimiento de un clasificador, en nuestro caso utilizando el algoritmo Decision tree. A continuación un método para evaluar nuestro clasificador.\n",
    "\n",
    "Introducimos los conceptos:\n",
    "\n",
    "    -  Confusion matrix / Matrix de confusión\n",
    "    -  Score / puntuación"
   ]
  },
  {
   "cell_type": "code",
   "execution_count": 18,
   "metadata": {},
   "outputs": [],
   "source": [
    "# definimos una funcion para evaluar el clasificador\n",
    "\n",
    "def evaluate_classifier(clf, test_data, test_labels):\n",
    "    pred = clf.predict(test_data)\n",
    "    C = confusion_matrix(test_labels, pred)\n",
    "    return C.diagonal().sum()*100./C.sum(),C"
   ]
  },
  {
   "cell_type": "code",
   "execution_count": 19,
   "metadata": {},
   "outputs": [],
   "source": [
    "# Dividimos el dataset en:\n",
    "#  -Datos de Entremamiento 70%  (features, labels)\n",
    "#  -Datos de Testing  30%   (features y labels)\n",
    "\n",
    "train_data, test_data, train_labels, test_labels = train_test_split(images, labels, test_size=0.1, random_state=42)"
   ]
  },
  {
   "cell_type": "markdown",
   "metadata": {},
   "source": [
    "Hora de entrenar nuestro __\"CLASIFICADOR\"__\n",
    "Usamos de la librería SciKit-learn, el algoritmo ya definido de __Decision Tree__, que nos permite definir los siguientes \"hiperparámetros\"\n",
    "\n",
    "\n",
    "criterion : The function to measure the quality of a split. Default \"gini\"\n",
    "\n",
    "max_depth : The maximum depth of the tree\n",
    "\n",
    "max_features : The number of features to consider when looking for the best split\n",
    "\n",
    "Más info: http://scikit-learn.org/stable/modules/generated/sklearn.tree.DecisionTreeClassifier.html"
   ]
  },
  {
   "cell_type": "code",
   "execution_count": 20,
   "metadata": {},
   "outputs": [
    {
     "data": {
      "text/plain": [
       "DecisionTreeClassifier(class_weight=None, criterion='gini', max_depth=None,\n",
       "            max_features=None, max_leaf_nodes=None,\n",
       "            min_impurity_decrease=0.0, min_impurity_split=None,\n",
       "            min_samples_leaf=1, min_samples_split=2,\n",
       "            min_weight_fraction_leaf=0.0, presort=False, random_state=None,\n",
       "            splitter='best')"
      ]
     },
     "execution_count": 20,
     "metadata": {},
     "output_type": "execute_result"
    }
   ],
   "source": [
    "# Entrenamiento del Arbol de decisiones\n",
    "# definimos el clasificador\n",
    "\n",
    "clf = DecisionTreeClassifier()\n",
    "\n",
    "# entrenamos el clasificador\n",
    "clf.fit(train_data, train_labels)"
   ]
  },
  {
   "cell_type": "code",
   "execution_count": 21,
   "metadata": {},
   "outputs": [
    {
     "name": "stdout",
     "output_type": "stream",
     "text": [
      "87.22222222222223\n",
      "[[15  0  0  0  1  1  0  0  0  0]\n",
      " [ 0  9  1  0  0  0  0  0  1  0]\n",
      " [ 0  0 15  0  0  0  0  1  0  1]\n",
      " [ 0  0  0 15  1  0  0  0  1  0]\n",
      " [ 0  0  0  0 22  0  1  2  0  0]\n",
      " [ 0  0  0  0  0 21  1  0  0  0]\n",
      " [ 0  0  0  0  0  0 19  0  0  0]\n",
      " [ 0  1  0  0  0  0  0 16  2  0]\n",
      " [ 0  0  0  0  0  0  0  0  6  2]\n",
      " [ 0  3  0  0  2  1  0  0  0 19]]\n"
     ]
    }
   ],
   "source": [
    "# vamos a evaluar nuestro clasificador con todo el \"training\" y \"testing\" set\n",
    "\n",
    "s,C = evaluate_classifier(clf, test_data, test_labels)\n",
    "\n",
    "# veremos el \"score\" y \"confusion matrix\" de nuestro clasificador elegido\n",
    "print(s)\n",
    "print(C)"
   ]
  },
  {
   "cell_type": "markdown",
   "metadata": {},
   "source": [
    "Antes de avanzar, podemos hacer un par de pruebas"
   ]
  },
  {
   "cell_type": "code",
   "execution_count": 66,
   "metadata": {},
   "outputs": [
    {
     "data": {
      "image/png": "[encoded data removed]",
      "text/plain": [
       "<matplotlib.figure.Figure at 0x1dd97e7c5f8>"
      ]
     },
     "metadata": {},
     "output_type": "display_data"
    }
   ],
   "source": [
    "# Elegimos al azar una imagen del dataset de prueba. Index 8y lo graficamos para identificar q digito es\n",
    "\n",
    "d = test_data[8]\n",
    "d = np.array(d, dtype='float')\n",
    "pixels = d.reshape((8, 8))\n",
    "plt.imshow(pixels, cmap='gray')\n",
    "plt.show()"
   ]
  },
  {
   "cell_type": "code",
   "execution_count": 67,
   "metadata": {},
   "outputs": [
    {
     "name": "stdout",
     "output_type": "stream",
     "text": [
      "[5]\n"
     ]
    }
   ],
   "source": [
    "# Aplicamos el clasificador a este index para ver el resultado\n",
    "\n",
    "print(clf.predict( [test_data[8]]))"
   ]
  },
  {
   "cell_type": "markdown",
   "metadata": {},
   "source": [
    "Una vez nuestro clasificador este listo, podemos usar nuestro testing data"
   ]
  },
  {
   "cell_type": "markdown",
   "metadata": {},
   "source": [
    "----------------------\n",
    "Extra."
   ]
  },
  {
   "cell_type": "code",
   "execution_count": 74,
   "metadata": {},
   "outputs": [],
   "source": [
    "from scipy import misc"
   ]
  },
  {
   "cell_type": "code",
   "execution_count": 77,
   "metadata": {},
   "outputs": [
    {
     "name": "stdout",
     "output_type": "stream",
     "text": [
      "[6]\n"
     ]
    },
    {
     "name": "stderr",
     "output_type": "stream",
     "text": [
      "D:\\ProgramData\\Anaconda3\\lib\\site-packages\\ipykernel_launcher.py:1: DeprecationWarning: `imread` is deprecated!\n",
      "`imread` is deprecated in SciPy 1.0.0, and will be removed in 1.2.0.\n",
      "Use ``imageio.imread`` instead.\n",
      "  \"\"\"Entry point for launching an IPython kernel.\n",
      "D:\\ProgramData\\Anaconda3\\lib\\site-packages\\ipykernel_launcher.py:2: DeprecationWarning: `imresize` is deprecated!\n",
      "`imresize` is deprecated in SciPy 1.0.0, and will be removed in 1.2.0.\n",
      "Use ``skimage.transform.resize`` instead.\n",
      "  \n",
      "D:\\ProgramData\\Anaconda3\\lib\\site-packages\\ipykernel_launcher.py:4: DeprecationWarning: `bytescale` is deprecated!\n",
      "`bytescale` is deprecated in SciPy 1.0.0, and will be removed in 1.2.0.\n",
      "  after removing the cwd from sys.path.\n"
     ]
    }
   ],
   "source": [
    "img = misc.imread(\"test/digit.jpg\")\n",
    "img = misc.imresize(img,(8,8))\n",
    "img = img.astype(digits.images.dtype)\n",
    "img = misc.bytescale(img, high=16, low=0)\n",
    "\n",
    "digit_test = []\n",
    "\n",
    "for eachRow in img:\n",
    "    for eachPixel in eachRow:\n",
    "        digit_test.append(sum(eachPixel)/3)\n",
    "\n",
    "        \n",
    "print(clf.predict( [digit_test]))"
   ]
  },
  {
   "cell_type": "code",
   "execution_count": 78,
   "metadata": {},
   "outputs": [
    {
     "data": {
      "image/png": "[encoded data removed]",
      "text/plain": [
       "<matplotlib.figure.Figure at 0x1dd97fa1208>"
      ]
     },
     "metadata": {},
     "output_type": "display_data"
    }
   ],
   "source": [
    "d = digit_test\n",
    "d = np.array(d, dtype='float')\n",
    "pixels = d.reshape((8, 8))\n",
    "plt.imshow(pixels, cmap='gray')\n",
    "plt.show()"
   ]
  },
  {
   "cell_type": "code",
   "execution_count": null,
   "metadata": {},
   "outputs": [],
   "source": []
  }
 ],
 "metadata": {
  "kernelspec": {
   "display_name": "Python 3",
   "language": "python",
   "name": "python3"
  },
  "language_info": {
   "codemirror_mode": {
    "name": "ipython",
    "version": 3
   },
   "file_extension": ".py",
   "mimetype": "text/x-python",
   "name": "python",
   "nbconvert_exporter": "python",
   "pygments_lexer": "ipython3",
   "version": "3.6.4"
  }
 },
 "nbformat": 4,
 "nbformat_minor": 2
}
